{
 "cells": [
  {
   "cell_type": "markdown",
   "id": "d4e4d6cd-3554-4c02-9efb-0dde8323f3b7",
   "metadata": {},
   "source": [
    "## Call Centre Data Cleaning."
   ]
  },
  {
   "cell_type": "markdown",
   "id": "6812ffa0-839c-48a3-a6a7-b69d5a29fd15",
   "metadata": {},
   "source": [
    "#### Importing Python libraries for data analysis."
   ]
  },
  {
   "cell_type": "code",
   "execution_count": null,
   "id": "02109e49-35f0-4c7c-a4ee-305ec6129eae",
   "metadata": {},
   "outputs": [],
   "source": [
    "import numpy as np\n",
    "import pandas as pd\n",
    "import matplotlib.pyplot as plt\n",
    "import seaborn as sns"
   ]
  },
  {
   "cell_type": "markdown",
   "id": "db83f070-cd04-4369-92b2-3feaede9950e",
   "metadata": {},
   "source": [
    "#### Importing Call Centre data into Jupyter Notebook."
   ]
  },
  {
   "cell_type": "code",
   "execution_count": null,
   "id": "622b38ab-4269-44a5-837c-f9ac95b9454b",
   "metadata": {},
   "outputs": [],
   "source": [
    "calls = pd.read_excel(\"Call Centre Data.xlsx\")"
   ]
  },
  {
   "cell_type": "markdown",
   "id": "e6153b16-70e6-475f-a675-4ea70c81407a",
   "metadata": {},
   "source": [
    "#### Reading Call Centre dataset."
   ]
  },
  {
   "cell_type": "code",
   "execution_count": null,
   "id": "ff258d20-dc10-4ad5-8bab-e9348b15f47d",
   "metadata": {},
   "outputs": [],
   "source": [
    "calls"
   ]
  },
  {
   "cell_type": "markdown",
   "id": "6232fd31-46bd-4463-b3fb-a3310fe6bd9d",
   "metadata": {},
   "source": [
    "#### Getting information on the Call Centre data."
   ]
  },
  {
   "cell_type": "code",
   "execution_count": null,
   "id": "7795d628-06ee-41df-9e7f-99ed511b09f5",
   "metadata": {},
   "outputs": [],
   "source": [
    "calls.info()"
   ]
  },
  {
   "cell_type": "markdown",
   "id": "e1f2e1e9-e84a-4cfc-9e18-e2b21a0c43cf",
   "metadata": {},
   "source": [
    "### 1. Removal of duplicated rows."
   ]
  },
  {
   "cell_type": "code",
   "execution_count": null,
   "id": "4cc615cb-5a3c-43bc-8dae-9a8dad5cfdb7",
   "metadata": {},
   "outputs": [],
   "source": [
    "calls.duplicated().any()"
   ]
  },
  {
   "cell_type": "code",
   "execution_count": null,
   "id": "67d9af75-21c4-4a62-bdc8-4ea1cea55697",
   "metadata": {},
   "outputs": [],
   "source": [
    "calls[calls[\"Id\"].duplicated() == 1]"
   ]
  },
  {
   "cell_type": "markdown",
   "id": "38b56acf-a28f-48ef-b8f8-3439d1875d05",
   "metadata": {},
   "source": [
    "### 2. Data formatting & standardisation."
   ]
  },
  {
   "cell_type": "code",
   "execution_count": null,
   "id": "5e54f324-7fde-4ebd-a467-8554df12a76f",
   "metadata": {},
   "outputs": [],
   "source": [
    "calls[\"Id\"]"
   ]
  },
  {
   "cell_type": "code",
   "execution_count": null,
   "id": "039a493d-4b8d-4bdd-bf38-cdf9f5ff8a83",
   "metadata": {},
   "outputs": [],
   "source": [
    "calls[\"Id\"] = calls[\"Id\"].str.upper()"
   ]
  },
  {
   "cell_type": "code",
   "execution_count": null,
   "id": "9e234677-9fd8-47c0-987c-62b76ed19185",
   "metadata": {},
   "outputs": [],
   "source": [
    "calls = calls.rename(columns = {\"Id\" : \"Call Id\"})"
   ]
  },
  {
   "cell_type": "code",
   "execution_count": null,
   "id": "a6ee55ad-2080-4b18-bd1e-21deebeb051f",
   "metadata": {},
   "outputs": [],
   "source": [
    "calls[\"Call Id\"]"
   ]
  },
  {
   "cell_type": "code",
   "execution_count": null,
   "id": "3059b2eb-6a65-460d-8d19-c7e01711f115",
   "metadata": {},
   "outputs": [],
   "source": [
    "calls[\"Call Timestamp\"].sort_values().unique()"
   ]
  },
  {
   "cell_type": "code",
   "execution_count": null,
   "id": "fcd8bbe1-ab46-43df-bf8f-837959f8a787",
   "metadata": {},
   "outputs": [],
   "source": [
    "calls[\"Call Timestamp\"] = pd.to_datetime(calls[\"Call Timestamp\"], format= \"%d-%m-%Y\")"
   ]
  },
  {
   "cell_type": "code",
   "execution_count": null,
   "id": "4d37033e-9710-420f-bc1f-4c6a66b1f26f",
   "metadata": {},
   "outputs": [],
   "source": [
    "calls = calls.rename(columns = {\"Call Timestamp\" : \"Call Date\"})"
   ]
  },
  {
   "cell_type": "code",
   "execution_count": null,
   "id": "277f9e37-92b7-48bf-ba3c-8aafb696a1d4",
   "metadata": {},
   "outputs": [],
   "source": [
    "calls[\"Call Date\"].sort_values().unique()"
   ]
  },
  {
   "cell_type": "code",
   "execution_count": null,
   "id": "4b21ff6c-f89d-4381-aedd-18120b9bcc02",
   "metadata": {},
   "outputs": [],
   "source": [
    "calls[\"Call-Centres City\"].unique()"
   ]
  },
  {
   "cell_type": "code",
   "execution_count": null,
   "id": "84856608-2c41-4f1a-9ab3-8db42adf921d",
   "metadata": {},
   "outputs": [],
   "source": [
    "calls = calls.rename(columns = {\"Call-Centres City\" : \"Call Centre City\"})"
   ]
  },
  {
   "cell_type": "code",
   "execution_count": null,
   "id": "9843516b-c8c5-4afd-8a27-5a4f4b8f8314",
   "metadata": {},
   "outputs": [],
   "source": [
    "calls[\"Channel\"].unique()"
   ]
  },
  {
   "cell_type": "code",
   "execution_count": null,
   "id": "beeebd9f-3943-4752-8735-793931a384d2",
   "metadata": {},
   "outputs": [],
   "source": [
    "calls[\"Channel\"] = calls[\"Channel\"].replace(\"Call-Center\", \"Call Centre\")"
   ]
  },
  {
   "cell_type": "code",
   "execution_count": null,
   "id": "5d674247-e160-433d-82db-88b48d0c4bce",
   "metadata": {},
   "outputs": [],
   "source": [
    "calls[\"Reason\"].unique()"
   ]
  },
  {
   "cell_type": "code",
   "execution_count": null,
   "id": "41b9b43f-2ccb-42e9-b570-b96a7c0fdb38",
   "metadata": {},
   "outputs": [],
   "source": [
    "calls[\"Response Time\"].unique()"
   ]
  },
  {
   "cell_type": "code",
   "execution_count": null,
   "id": "334b07c6-7cd6-44bc-8a60-47d9348e029a",
   "metadata": {},
   "outputs": [],
   "source": [
    "calls[\"Sentiment\"].unique()"
   ]
  },
  {
   "cell_type": "code",
   "execution_count": null,
   "id": "353acda6-1e9f-486b-ba0c-891a291cf60a",
   "metadata": {},
   "outputs": [],
   "source": [
    "calls[\"State\"].sort_values().unique()"
   ]
  },
  {
   "cell_type": "code",
   "execution_count": null,
   "id": "deab2bdf-4b00-4230-89cd-36fdb29d662c",
   "metadata": {},
   "outputs": [],
   "source": [
    "calls[\"Call Duration In Minutes\"].sort_values().unique()"
   ]
  },
  {
   "cell_type": "code",
   "execution_count": null,
   "id": "4b85f50c-5d71-4f8e-b615-489ebf931a3c",
   "metadata": {},
   "outputs": [],
   "source": [
    "calls = calls.rename(columns = {\"Call Duration In Minutes\" : \"Call Duration (Mins)\"})"
   ]
  },
  {
   "cell_type": "code",
   "execution_count": null,
   "id": "13e16b20-380a-4292-b55e-bce8d890ffa3",
   "metadata": {},
   "outputs": [],
   "source": [
    "calls[\"Csat Score\"].sort_values().unique()"
   ]
  },
  {
   "cell_type": "code",
   "execution_count": null,
   "id": "c3c24c18-66e9-4b5c-a631-4de7169d80b3",
   "metadata": {},
   "outputs": [],
   "source": [
    "calls = calls.rename(columns = {\"Csat Score\" : \"CSAT Score\"})"
   ]
  },
  {
   "cell_type": "markdown",
   "id": "1d378b97-7bcc-45b8-90cf-c145d4e25a90",
   "metadata": {},
   "source": [
    "### 3. Imputation of blank/null values."
   ]
  },
  {
   "cell_type": "code",
   "execution_count": null,
   "id": "fdfff253-8de3-43e2-9615-56caf83b89e4",
   "metadata": {},
   "outputs": [],
   "source": [
    "calls.isnull().sum()"
   ]
  },
  {
   "cell_type": "code",
   "execution_count": null,
   "id": "8fcc03ca-e9d1-4560-b141-05628f4085cf",
   "metadata": {},
   "outputs": [],
   "source": [
    "#Using mean substitution method to impute blank"
   ]
  },
  {
   "cell_type": "code",
   "execution_count": null,
   "id": "55ba71ba-dc29-46ba-aacf-62e1b90f24ea",
   "metadata": {},
   "outputs": [],
   "source": [
    "calls[[\"CSAT Score\", \"Sentiment\"]].sort_values(by = [\"CSAT Score\",\"Sentiment\"], ascending=[True, True]).drop_duplicates()"
   ]
  },
  {
   "cell_type": "markdown",
   "id": "9a5d5053-75c5-4c24-bc6b-70a0a1a85b50",
   "metadata": {},
   "source": [
    "### 4. Removal of unnecessary columns."
   ]
  },
  {
   "cell_type": "code",
   "execution_count": null,
   "id": "f61b864c-c6c2-40e5-88b4-41fdacefe994",
   "metadata": {},
   "outputs": [],
   "source": [
    "#Kept all columns, no unnecessary columns."
   ]
  },
  {
   "cell_type": "markdown",
   "id": "47965719-0525-453f-8389-91dfc1547c57",
   "metadata": {},
   "source": [
    "### 5. Filtration & aggregation of dataframe."
   ]
  },
  {
   "cell_type": "code",
   "execution_count": null,
   "id": "50aa31a4-5f3a-4f48-badb-85873c3a9043",
   "metadata": {},
   "outputs": [],
   "source": [
    "calls = calls[(~calls[\"State\"].isin([\"Alaska\", \"Hawaii\"])) & (calls[\"Call Date\"] != \"2020-10-31\")]"
   ]
  },
  {
   "cell_type": "markdown",
   "id": "350468ae-46d4-4e55-aecf-396ebbbaf78a",
   "metadata": {},
   "source": [
    "## Call Centre Data Analysis."
   ]
  },
  {
   "cell_type": "markdown",
   "id": "eb1a6e29-5e7e-4002-a512-a5f34969505c",
   "metadata": {},
   "source": [
    "#### 1. Total calls"
   ]
  },
  {
   "cell_type": "code",
   "execution_count": null,
   "id": "dba9a547-8c48-456d-81d9-b2f498e8018d",
   "metadata": {},
   "outputs": [],
   "source": [
    "calls[\"Call Id\"].count()"
   ]
  },
  {
   "cell_type": "markdown",
   "id": "73cb9ef4-0c3f-4ea4-a1b7-be8af7057fc6",
   "metadata": {},
   "source": [
    "#### 2. Total Call Duration (Mins)"
   ]
  },
  {
   "cell_type": "code",
   "execution_count": null,
   "id": "308d9d70-fc81-4150-bb96-5930ae1872ef",
   "metadata": {},
   "outputs": [],
   "source": [
    "calls[\"Call Duration (Mins)\"].sum()"
   ]
  },
  {
   "cell_type": "markdown",
   "id": "d95e899b-aa90-486d-a88d-56c28663b877",
   "metadata": {},
   "source": [
    "#### 3. Average Call Duration (Mins)"
   ]
  },
  {
   "cell_type": "code",
   "execution_count": null,
   "id": "99a15570-d662-4263-a6a8-209f8741682f",
   "metadata": {},
   "outputs": [],
   "source": [
    "calls[\"Call Duration (Mins)\"].mean().round(2)"
   ]
  },
  {
   "cell_type": "markdown",
   "id": "992ca8fb-39d7-40ca-b727-d042ea653705",
   "metadata": {},
   "source": [
    "#### 4. Average CSAT Score"
   ]
  },
  {
   "cell_type": "code",
   "execution_count": null,
   "id": "6be4f7b1-3373-4074-963e-54a2df1bad2c",
   "metadata": {},
   "outputs": [],
   "source": [
    "calls[\"CSAT Score\"].mean().round(2)"
   ]
  },
  {
   "cell_type": "markdown",
   "id": "2d130a59-a0de-4d28-9899-9ae1cecffbc4",
   "metadata": {},
   "source": [
    "#### 5. Total calls by Call Date."
   ]
  },
  {
   "cell_type": "code",
   "execution_count": null,
   "id": "fb35d8f3-5311-4610-998d-3aff5a90ddcc",
   "metadata": {},
   "outputs": [],
   "source": [
    "calls.groupby(\"Call Date\")[\"Call Id\"].count()"
   ]
  },
  {
   "cell_type": "markdown",
   "id": "ef3064e7-600d-4254-acc3-5bf312dcdbdf",
   "metadata": {},
   "source": [
    "#### 6. Total Call Duration (Mins) by Call Date."
   ]
  },
  {
   "cell_type": "code",
   "execution_count": null,
   "id": "e4fcfff3-0e3d-4c9b-a2db-5f8ea0311fa1",
   "metadata": {},
   "outputs": [],
   "source": [
    "calls.groupby(\"Call Date\")[\"Call Duration (Mins)\"].sum()"
   ]
  },
  {
   "cell_type": "markdown",
   "id": "81591e00-27b9-44af-9f1f-d31277b41c34",
   "metadata": {},
   "source": [
    "#### 7. Average Call Duration (Mins) by Call Date."
   ]
  },
  {
   "cell_type": "code",
   "execution_count": null,
   "id": "44373196-9b6b-4455-bb66-74be03313c1c",
   "metadata": {},
   "outputs": [],
   "source": [
    "calls.groupby(\"Call Date\")[\"Call Duration (Mins)\"].mean().round(2)"
   ]
  },
  {
   "cell_type": "markdown",
   "id": "4b802cf4-1fc3-463b-a58c-5099e794cdf2",
   "metadata": {},
   "source": [
    "#### 8. Average CSAT Score by Call Date."
   ]
  },
  {
   "cell_type": "code",
   "execution_count": null,
   "id": "d8b5e354-e2d4-432d-86ef-bc1bb2779735",
   "metadata": {},
   "outputs": [],
   "source": [
    "calls.groupby(\"Call Date\")[\"CSAT Score\"].mean().round(2)"
   ]
  }
 ],
 "metadata": {
  "kernelspec": {
   "display_name": "Python 3 (ipykernel)",
   "language": "python",
   "name": "python3"
  },
  "language_info": {
   "codemirror_mode": {
    "name": "ipython",
    "version": 3
   },
   "file_extension": ".py",
   "mimetype": "text/x-python",
   "name": "python",
   "nbconvert_exporter": "python",
   "pygments_lexer": "ipython3",
   "version": "3.12.4"
  }
 },
 "nbformat": 4,
 "nbformat_minor": 5
}
