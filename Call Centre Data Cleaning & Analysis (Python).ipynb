{
 "cells": [
  {
   "cell_type": "markdown",
   "id": "d4e4d6cd-3554-4c02-9efb-0dde8323f3b7",
   "metadata": {},
   "source": [
    "## Call Centre Data Cleaning."
   ]
  },
  {
   "cell_type": "markdown",
   "id": "6812ffa0-839c-48a3-a6a7-b69d5a29fd15",
   "metadata": {},
   "source": [
    "#### Importing Python libraries for data analysis."
   ]
  },
  {
   "cell_type": "code",
   "execution_count": null,
   "id": "02109e49-35f0-4c7c-a4ee-305ec6129eae",
   "metadata": {},
   "outputs": [],
   "source": [
    "import numpy as np\n",
    "import pandas as pd\n",
    "import matplotlib.pyplot as plt\n",
    "import seaborn as sns"
   ]
  },
  {
   "cell_type": "markdown",
   "id": "db83f070-cd04-4369-92b2-3feaede9950e",
   "metadata": {},
   "source": [
    "#### Importing Call Centre data into Jupyter Notebook."
   ]
  },
  {
   "cell_type": "code",
   "execution_count": null,
   "id": "622b38ab-4269-44a5-837c-f9ac95b9454b",
   "metadata": {},
   "outputs": [],
   "source": [
    "calls = pd.read_excel(\"Call Centre Data.xlsx\")"
   ]
  },
  {
   "cell_type": "markdown",
   "id": "e6153b16-70e6-475f-a675-4ea70c81407a",
   "metadata": {},
   "source": [
    "#### Reading Call Centre dataset."
   ]
  },
  {
   "cell_type": "code",
   "execution_count": null,
   "id": "ff258d20-dc10-4ad5-8bab-e9348b15f47d",
   "metadata": {},
   "outputs": [],
   "source": [
    "calls"
   ]
  },
  {
   "cell_type": "markdown",
   "id": "6232fd31-46bd-4463-b3fb-a3310fe6bd9d",
   "metadata": {},
   "source": [
    "#### Getting information on the Call Centre data."
   ]
  },
  {
   "cell_type": "code",
   "execution_count": null,
   "id": "7795d628-06ee-41df-9e7f-99ed511b09f5",
   "metadata": {},
   "outputs": [],
   "source": [
    "calls.info()"
   ]
  },
  {
   "cell_type": "markdown",
   "id": "e1f2e1e9-e84a-4cfc-9e18-e2b21a0c43cf",
   "metadata": {},
   "source": [
    "### 1. Removal of duplicated rows."
   ]
  },
  {
   "cell_type": "code",
   "execution_count": null,
   "id": "4cc615cb-5a3c-43bc-8dae-9a8dad5cfdb7",
   "metadata": {},
   "outputs": [],
   "source": [
    "calls.duplicated().any()"
   ]
  },
  {
   "cell_type": "code",
   "execution_count": null,
   "id": "67d9af75-21c4-4a62-bdc8-4ea1cea55697",
   "metadata": {},
   "outputs": [],
   "source": [
    "calls[calls[\"Id\"].duplicated() == 1]"
   ]
  },
  {
   "cell_type": "markdown",
   "id": "38b56acf-a28f-48ef-b8f8-3439d1875d05",
   "metadata": {},
   "source": [
    "### 2. Data formatting & standardisation."
   ]
  },
  {
   "cell_type": "code",
   "execution_count": null,
   "id": "5e54f324-7fde-4ebd-a467-8554df12a76f",
   "metadata": {},
   "outputs": [],
   "source": [
    "calls[\"Id\"]"
   ]
  },
  {
   "cell_type": "code",
   "execution_count": null,
   "id": "039a493d-4b8d-4bdd-bf38-cdf9f5ff8a83",
   "metadata": {},
   "outputs": [],
   "source": [
    "calls[\"Id\"] = calls[\"Id\"].str.upper()"
   ]
  },
  {
   "cell_type": "code",
   "execution_count": null,
   "id": "9e234677-9fd8-47c0-987c-62b76ed19185",
   "metadata": {},
   "outputs": [],
   "source": [
    "calls = calls.rename(columns = {\"Id\" : \"Call Id\"})"
   ]
  },
  {
   "cell_type": "code",
   "execution_count": null,
   "id": "a6ee55ad-2080-4b18-bd1e-21deebeb051f",
   "metadata": {},
   "outputs": [],
   "source": [
    "calls[\"Call Id\"]"
   ]
  },
  {
   "cell_type": "code",
   "execution_count": null,
   "id": "3059b2eb-6a65-460d-8d19-c7e01711f115",
   "metadata": {},
   "outputs": [],
   "source": [
    "calls[\"Call Timestamp\"].sort_values().unique()"
   ]
  },
  {
   "cell_type": "code",
   "execution_count": null,
   "id": "fcd8bbe1-ab46-43df-bf8f-837959f8a787",
   "metadata": {},
   "outputs": [],
   "source": [
    "calls[\"Call Timestamp\"] = pd.to_datetime(calls[\"Call Timestamp\"], format= \"%d-%m-%Y\")"
   ]
  },
  {
   "cell_type": "code",
   "execution_count": null,
   "id": "4d37033e-9710-420f-bc1f-4c6a66b1f26f",
   "metadata": {},
   "outputs": [],
   "source": [
    "calls = calls.rename(columns = {\"Call Timestamp\" : \"Call Date\"})"
   ]
  },
  {
   "cell_type": "code",
   "execution_count": null,
   "id": "277f9e37-92b7-48bf-ba3c-8aafb696a1d4",
   "metadata": {},
   "outputs": [],
   "source": [
    "calls[\"Call Date\"].sort_values().unique()"
   ]
  },
  {
   "cell_type": "code",
   "execution_count": null,
   "id": "4b21ff6c-f89d-4381-aedd-18120b9bcc02",
   "metadata": {},
   "outputs": [],
   "source": [
    "calls[\"Call-Centres City\"].unique()"
   ]
  },
  {
   "cell_type": "code",
   "execution_count": null,
   "id": "84856608-2c41-4f1a-9ab3-8db42adf921d",
   "metadata": {},
   "outputs": [],
   "source": [
    "calls = calls.rename(columns = {\"Call-Centres City\" : \"Call Centre City\"})"
   ]
  },
  {
   "cell_type": "code",
   "execution_count": null,
   "id": "9843516b-c8c5-4afd-8a27-5a4f4b8f8314",
   "metadata": {},
   "outputs": [],
   "source": [
    "calls[\"Channel\"].unique()"
   ]
  },
  {
   "cell_type": "code",
   "execution_count": null,
   "id": "beeebd9f-3943-4752-8735-793931a384d2",
   "metadata": {},
   "outputs": [],
   "source": [
    "calls[\"Channel\"] = calls[\"Channel\"].replace(\"Call-Center\", \"Call Centre\")"
   ]
  },
  {
   "cell_type": "code",
   "execution_count": null,
   "id": "5d674247-e160-433d-82db-88b48d0c4bce",
   "metadata": {},
   "outputs": [],
   "source": [
    "calls[\"Reason\"].unique()"
   ]
  },
  {
   "cell_type": "code",
   "execution_count": null,
   "id": "41b9b43f-2ccb-42e9-b570-b96a7c0fdb38",
   "metadata": {},
   "outputs": [],
   "source": [
    "calls[\"Response Time\"].unique()"
   ]
  },
  {
   "cell_type": "code",
   "execution_count": null,
   "id": "334b07c6-7cd6-44bc-8a60-47d9348e029a",
   "metadata": {},
   "outputs": [],
   "source": [
    "calls[\"Sentiment\"].unique()"
   ]
  },
  {
   "cell_type": "code",
   "execution_count": null,
   "id": "353acda6-1e9f-486b-ba0c-891a291cf60a",
   "metadata": {},
   "outputs": [],
   "source": [
    "calls[\"State\"].sort_values().unique()"
   ]
  },
  {
   "cell_type": "code",
   "execution_count": null,
   "id": "deab2bdf-4b00-4230-89cd-36fdb29d662c",
   "metadata": {},
   "outputs": [],
   "source": [
    "calls[\"Call Duration In Minutes\"].sort_values().unique()"
   ]
  },
  {
   "cell_type": "code",
   "execution_count": null,
   "id": "4b85f50c-5d71-4f8e-b615-489ebf931a3c",
   "metadata": {},
   "outputs": [],
   "source": [
    "calls = calls.rename(columns = {\"Call Duration In Minutes\" : \"Call Duration (Mins)\"})"
   ]
  },
  {
   "cell_type": "code",
   "execution_count": null,
   "id": "13e16b20-380a-4292-b55e-bce8d890ffa3",
   "metadata": {},
   "outputs": [],
   "source": [
    "calls[\"Csat Score\"].sort_values().unique()"
   ]
  },
  {
   "cell_type": "code",
   "execution_count": null,
   "id": "c3c24c18-66e9-4b5c-a631-4de7169d80b3",
   "metadata": {},
   "outputs": [],
   "source": [
    "calls = calls.rename(columns = {\"Csat Score\" : \"CSAT Score\"})"
   ]
  },
  {
   "cell_type": "markdown",
   "id": "1d378b97-7bcc-45b8-90cf-c145d4e25a90",
   "metadata": {},
   "source": [
    "### 3. Imputation of blank/null values."
   ]
  },
  {
   "cell_type": "code",
   "execution_count": null,
   "id": "fdfff253-8de3-43e2-9615-56caf83b89e4",
   "metadata": {},
   "outputs": [],
   "source": [
    "calls.isnull().sum()"
   ]
  },
  {
   "cell_type": "code",
   "execution_count": null,
   "id": "8fcc03ca-e9d1-4560-b141-05628f4085cf",
   "metadata": {},
   "outputs": [],
   "source": [
    "#Using mean substitution method to impute blank"
   ]
  },
  {
   "cell_type": "code",
   "execution_count": null,
   "id": "55ba71ba-dc29-46ba-aacf-62e1b90f24ea",
   "metadata": {},
   "outputs": [],
   "source": [
    "calls[[\"CSAT Score\", \"Sentiment\"]].sort_values(by = [\"CSAT Score\",\"Sentiment\"], ascending=[True, True]).drop_duplicates()"
   ]
  },
  {
   "cell_type": "markdown",
   "id": "9a5d5053-75c5-4c24-bc6b-70a0a1a85b50",
   "metadata": {},
   "source": [
    "### 4. Removal of unnecessary columns."
   ]
  },
  {
   "cell_type": "code",
   "execution_count": null,
   "id": "f61b864c-c6c2-40e5-88b4-41fdacefe994",
   "metadata": {},
   "outputs": [],
   "source": [
    "#Kept all columns, no unnecessary columns."
   ]
  },
  {
   "cell_type": "markdown",
   "id": "47965719-0525-453f-8389-91dfc1547c57",
   "metadata": {},
   "source": [
    "### 5. Filtration & aggregation of dataframe."
   ]
  },
  {
   "cell_type": "code",
   "execution_count": null,
   "id": "50aa31a4-5f3a-4f48-badb-85873c3a9043",
   "metadata": {},
   "outputs": [],
   "source": [
    "calls = calls[(~calls[\"State\"].isin([\"Alaska\", \"Hawaii\"])) & (calls[\"Call Date\"] != \"2020-10-31\")]"
   ]
  },
  {
   "cell_type": "markdown",
   "id": "350468ae-46d4-4e55-aecf-396ebbbaf78a",
   "metadata": {},
   "source": [
    "## Call Centre Data Analysis."
   ]
  },
  {
   "cell_type": "markdown",
   "id": "eb1a6e29-5e7e-4002-a512-a5f34969505c",
   "metadata": {},
   "source": [
    "#### 1. Total calls"
   ]
  },
  {
   "cell_type": "code",
   "execution_count": null,
   "id": "dba9a547-8c48-456d-81d9-b2f498e8018d",
   "metadata": {},
   "outputs": [],
   "source": [
    "calls[\"Call Id\"].count()"
   ]
  },
  {
   "cell_type": "markdown",
   "id": "73cb9ef4-0c3f-4ea4-a1b7-be8af7057fc6",
   "metadata": {},
   "source": [
    "#### 2. Total Call Duration (Mins)"
   ]
  },
  {
   "cell_type": "code",
   "execution_count": null,
   "id": "308d9d70-fc81-4150-bb96-5930ae1872ef",
   "metadata": {},
   "outputs": [],
   "source": [
    "calls[\"Call Duration (Mins)\"].sum()"
   ]
  },
  {
   "cell_type": "markdown",
   "id": "d95e899b-aa90-486d-a88d-56c28663b877",
   "metadata": {},
   "source": [
    "#### 3. Average Call Duration (Mins)"
   ]
  },
  {
   "cell_type": "code",
   "execution_count": null,
   "id": "99a15570-d662-4263-a6a8-209f8741682f",
   "metadata": {},
   "outputs": [],
   "source": [
    "calls[\"Call Duration (Mins)\"].mean().round(2)"
   ]
  },
  {
   "cell_type": "markdown",
   "id": "992ca8fb-39d7-40ca-b727-d042ea653705",
   "metadata": {},
   "source": [
    "#### 4. Average CSAT Score"
   ]
  },
  {
   "cell_type": "code",
   "execution_count": null,
   "id": "6be4f7b1-3373-4074-963e-54a2df1bad2c",
   "metadata": {},
   "outputs": [],
   "source": [
    "calls[\"CSAT Score\"].mean().round(2)"
   ]
  },
  {
   "cell_type": "markdown",
   "id": "2d130a59-a0de-4d28-9899-9ae1cecffbc4",
   "metadata": {},
   "source": [
    "#### 5. Total calls by Call Date."
   ]
  },
  {
   "cell_type": "code",
   "execution_count": null,
   "id": "fb35d8f3-5311-4610-998d-3aff5a90ddcc",
   "metadata": {},
   "outputs": [],
   "source": [
    "calls.groupby(\"Call Date\")[\"Call Id\"].count()"
   ]
  },
  {
   "cell_type": "markdown",
   "id": "ef3064e7-600d-4254-acc3-5bf312dcdbdf",
   "metadata": {},
   "source": [
    "#### 6. Total Call Duration (Mins) by Call Date."
   ]
  },
  {
   "cell_type": "code",
   "execution_count": null,
   "id": "e4fcfff3-0e3d-4c9b-a2db-5f8ea0311fa1",
   "metadata": {},
   "outputs": [],
   "source": [
    "calls.groupby(\"Call Date\")[\"Call Duration (Mins)\"].sum()"
   ]
  },
  {
   "cell_type": "markdown",
   "id": "81591e00-27b9-44af-9f1f-d31277b41c34",
   "metadata": {},
   "source": [
    "#### 7. Average Call Duration (Mins) by Call Date."
   ]
  },
  {
   "cell_type": "code",
   "execution_count": null,
   "id": "44373196-9b6b-4455-bb66-74be03313c1c",
   "metadata": {},
   "outputs": [],
   "source": [
    "calls.groupby(\"Call Date\")[\"Call Duration (Mins)\"].mean().round(2)"
   ]
  },
  {
   "cell_type": "markdown",
   "id": "4b802cf4-1fc3-463b-a58c-5099e794cdf2",
   "metadata": {},
   "source": [
    "#### 8. Average CSAT Score by Call Date."
   ]
  },
  {
   "cell_type": "code",
   "execution_count": null,
   "id": "d8b5e354-e2d4-432d-86ef-bc1bb2779735",
   "metadata": {},
   "outputs": [],
   "source": [
    "calls.groupby(\"Call Date\")[\"CSAT Score\"].mean().round(2)"
   ]
  },
  {
   "cell_type": "markdown",
   "id": "db72b9f6-bab1-43e3-ac85-68c9dc1b43a7",
   "metadata": {},
   "source": [
    "#### 9. Total Calls by Call Date."
   ]
  },
  {
   "cell_type": "code",
   "execution_count": null,
   "id": "cf381f11-babf-4487-8e92-0803b6826b51",
   "metadata": {},
   "outputs": [],
   "source": [
    "calls.groupby(\"Call Date\")[\"Call Id\"].count()"
   ]
  },
  {
   "cell_type": "markdown",
   "id": "f169146f-4993-46cf-a64f-6dfe43ad575f",
   "metadata": {},
   "source": [
    "#### 10. Total Call Duration (Mins) by Call Date."
   ]
  },
  {
   "cell_type": "code",
   "execution_count": null,
   "id": "c313e593-e9df-48d5-92ec-ba06dcd68d8f",
   "metadata": {},
   "outputs": [],
   "source": [
    "calls.groupby(\"Call Date\")[\"Call Duration (Mins)\"].sum()"
   ]
  },
  {
   "cell_type": "markdown",
   "id": "26043342-63ef-4b2d-9b92-f5734e3be06d",
   "metadata": {},
   "source": [
    "#### 11. Total Calls by Weekday."
   ]
  },
  {
   "cell_type": "code",
   "execution_count": null,
   "id": "65a6b482-ceea-4589-b16c-887f73daebcb",
   "metadata": {},
   "outputs": [],
   "source": [
    "calls[\"Call Day\"] = calls[\"Call Date\"].dt.day_name()\n",
    "calls.groupby(\"Call Day\")[\"Call Id\"].count()"
   ]
  },
  {
   "cell_type": "markdown",
   "id": "b6879361-3f42-40f3-8d1e-6969024986f3",
   "metadata": {},
   "source": [
    "#### 12. Total Call Duration (Mins) by Weekday."
   ]
  },
  {
   "cell_type": "code",
   "execution_count": null,
   "id": "c8a81e4c-388c-42b4-b6d9-1c0b7b245982",
   "metadata": {},
   "outputs": [],
   "source": [
    "calls.groupby(\"Call Day\")[\"Call Duration (Mins)\"].sum()"
   ]
  },
  {
   "cell_type": "markdown",
   "id": "0631af44-055d-4cdc-ba7a-7f12a98de605",
   "metadata": {},
   "source": [
    "#### 13. Total Calls by State."
   ]
  },
  {
   "cell_type": "code",
   "execution_count": null,
   "id": "aa33abbb-df94-4a2c-92a6-7dc284037f22",
   "metadata": {},
   "outputs": [],
   "source": [
    "calls.groupby(\"State\")[\"Call Id\"].count()"
   ]
  },
  {
   "cell_type": "markdown",
   "id": "f07a5495-b627-4cad-baa6-c3ae6260b63e",
   "metadata": {},
   "source": [
    "#### 14. Total Call Duration (Mins) by State."
   ]
  },
  {
   "cell_type": "code",
   "execution_count": null,
   "id": "fbc966af-a6dd-4809-99ee-a53b85a2c984",
   "metadata": {},
   "outputs": [],
   "source": [
    "calls.groupby(\"State\")[\"Call Duration (Mins)\"].sum()"
   ]
  },
  {
   "cell_type": "markdown",
   "id": "d45dbe78-f7ba-4c18-a15b-4fbadc11602f",
   "metadata": {},
   "source": [
    "#### 15. Total Calls by Call Centre City."
   ]
  },
  {
   "cell_type": "code",
   "execution_count": null,
   "id": "17e7fcad-064d-4138-a4db-9ad4bc21ea3d",
   "metadata": {},
   "outputs": [],
   "source": [
    "calls.groupby(\"Call Centre City\")[\"Call Id\"].count()"
   ]
  },
  {
   "cell_type": "code",
   "execution_count": null,
   "id": "aeb8e58c-633e-4fd3-b9b6-84c48360a2eb",
   "metadata": {},
   "outputs": [],
   "source": [
    "(calls.groupby(\"Call Centre City\")[\"Call Id\"].count()*100/calls[\"Call Id\"].count()).round(2)"
   ]
  },
  {
   "cell_type": "markdown",
   "id": "a817d955-2f43-4320-9562-ebb398bb1c7d",
   "metadata": {},
   "source": [
    "#### 16. Total Call Duration (Mins) by Call Centre City."
   ]
  },
  {
   "cell_type": "code",
   "execution_count": null,
   "id": "7cfe930a-19bf-4702-9e55-0241c6451849",
   "metadata": {},
   "outputs": [],
   "source": [
    "calls.groupby(\"Call Centre City\")[\"Call Duration (Mins)\"].sum()"
   ]
  },
  {
   "cell_type": "code",
   "execution_count": null,
   "id": "c06ec452-e550-4737-94a6-65da042c8661",
   "metadata": {},
   "outputs": [],
   "source": [
    "(calls.groupby(\"Call Centre City\")[\"Call Duration (Mins)\"].sum()*100/calls[\"Call Duration (Mins)\"].sum()).round(2)"
   ]
  },
  {
   "cell_type": "markdown",
   "id": "b86d565a-9937-43f5-bf55-da31ee6ef8a4",
   "metadata": {},
   "source": [
    "#### 17. Total Calls by Channel."
   ]
  },
  {
   "cell_type": "code",
   "execution_count": null,
   "id": "356ce2fd-2909-4f77-8297-98880c3ca28e",
   "metadata": {},
   "outputs": [],
   "source": [
    "calls.groupby(\"Channel\")[\"Call Id\"].count()"
   ]
  },
  {
   "cell_type": "code",
   "execution_count": null,
   "id": "8efeabc3-3c99-44d5-8a24-a27bae33197d",
   "metadata": {},
   "outputs": [],
   "source": [
    "(calls.groupby(\"Channel\")[\"Call Id\"].count()*100/calls[\"Call Id\"].count()).round(2)"
   ]
  },
  {
   "cell_type": "markdown",
   "id": "1e4f7d43-4077-47db-a495-0e126776d872",
   "metadata": {},
   "source": [
    "#### 18. Total Call Duration (Mins) by Channel."
   ]
  },
  {
   "cell_type": "code",
   "execution_count": null,
   "id": "aee6469e-97f4-44da-ad06-2bba3e11570a",
   "metadata": {},
   "outputs": [],
   "source": [
    "calls.groupby(\"Channel\")[\"Call Duration (Mins)\"].sum()"
   ]
  },
  {
   "cell_type": "code",
   "execution_count": null,
   "id": "769fdcba-4128-4ac4-850e-dcead6c5f471",
   "metadata": {},
   "outputs": [],
   "source": [
    "(calls.groupby(\"Channel\")[\"Call Duration (Mins)\"].sum()*100/calls[\"Call Duration (Mins)\"].sum()).round(2)"
   ]
  },
  {
   "cell_type": "markdown",
   "id": "c5268c76-dace-4d4a-8638-3d7096d46ab0",
   "metadata": {},
   "source": [
    "#### 19. Total Calls by Reason."
   ]
  },
  {
   "cell_type": "code",
   "execution_count": null,
   "id": "23f143dc-e542-437a-85ce-14d136561687",
   "metadata": {},
   "outputs": [],
   "source": [
    "calls.groupby(\"Reason\")[\"Call Id\"].count()"
   ]
  },
  {
   "cell_type": "code",
   "execution_count": null,
   "id": "5604c723-00fc-4b97-8a93-27ba0b8d91f6",
   "metadata": {},
   "outputs": [],
   "source": [
    "(calls.groupby(\"Reason\")[\"Call Id\"].count()*100/calls[\"Call Id\"].count()).round(2)"
   ]
  },
  {
   "cell_type": "markdown",
   "id": "e70fb4e6-4d22-4961-8e57-5a5eb41631ca",
   "metadata": {},
   "source": [
    "#### 20. Total Call Duration (Mins) by Reason."
   ]
  },
  {
   "cell_type": "code",
   "execution_count": null,
   "id": "e228c1b0-c213-40de-af0c-87a728ca8057",
   "metadata": {},
   "outputs": [],
   "source": [
    "calls.groupby(\"Reason\")[\"Call Duration (Mins)\"].sum()"
   ]
  },
  {
   "cell_type": "code",
   "execution_count": null,
   "id": "02e677d9-0a61-4e63-8685-358410fb2525",
   "metadata": {},
   "outputs": [],
   "source": [
    "(calls.groupby(\"Reason\")[\"Call Duration (Mins)\"].sum()*100/calls[\"Call Duration (Mins)\"].sum()).round(2)"
   ]
  },
  {
   "cell_type": "markdown",
   "id": "ca08e8ad-2ef3-4c15-92c8-a99eb84b8883",
   "metadata": {},
   "source": [
    "#### 21. Total Calls by Response Time."
   ]
  },
  {
   "cell_type": "code",
   "execution_count": null,
   "id": "f4f25b7d-888b-450b-a223-3d31c6d35536",
   "metadata": {},
   "outputs": [],
   "source": [
    "calls.groupby(\"Response Time\")[\"Call Id\"].count()"
   ]
  },
  {
   "cell_type": "code",
   "execution_count": null,
   "id": "5fd11c54-b570-41db-889b-f2bbd1db17ed",
   "metadata": {},
   "outputs": [],
   "source": [
    "(calls.groupby(\"Response Time\")[\"Call Id\"].count()*100/calls[\"Call Id\"].count()).round(2)"
   ]
  },
  {
   "cell_type": "markdown",
   "id": "6ba9a722-05df-4aa9-b1b2-f230d1c03bdf",
   "metadata": {},
   "source": [
    "#### 22. Total Call Duration (Mins) by Response Time."
   ]
  },
  {
   "cell_type": "code",
   "execution_count": null,
   "id": "5d53be00-4898-4409-a6aa-e3e13d9f5b2c",
   "metadata": {},
   "outputs": [],
   "source": [
    "calls.groupby(\"Response Time\")[\"Call Duration (Mins)\"].sum()"
   ]
  },
  {
   "cell_type": "code",
   "execution_count": null,
   "id": "88719866-6241-41d9-a351-4927aad8b8ed",
   "metadata": {},
   "outputs": [],
   "source": [
    "(calls.groupby(\"Response Time\")[\"Call Duration (Mins)\"].sum()*100/calls[\"Call Duration (Mins)\"].sum()).round(2)"
   ]
  },
  {
   "cell_type": "markdown",
   "id": "6af9dd87-c0c4-4168-8347-9e95f91c6581",
   "metadata": {},
   "source": [
    "#### 23. Total Calls by Sentiment."
   ]
  },
  {
   "cell_type": "code",
   "execution_count": null,
   "id": "ec494cce-ce47-4160-940a-07b8465b6572",
   "metadata": {},
   "outputs": [],
   "source": [
    "calls.groupby(\"Sentiment\")[\"Call Id\"].count()"
   ]
  },
  {
   "cell_type": "code",
   "execution_count": null,
   "id": "d0fa5411-2797-4530-b12f-c520f9c9a91e",
   "metadata": {},
   "outputs": [],
   "source": [
    "(calls.groupby(\"Sentiment\")[\"Call Id\"].count()*100/calls[\"Call Id\"].count()).round(2)"
   ]
  },
  {
   "cell_type": "markdown",
   "id": "5cd625f8-a6fd-4aa3-9c59-cc8c2001bc49",
   "metadata": {},
   "source": [
    "#### 24. Total Call Duration (Mins) by Sentiment."
   ]
  },
  {
   "cell_type": "code",
   "execution_count": null,
   "id": "bbe3a9c8-81d3-4646-b8f4-477c9a840913",
   "metadata": {},
   "outputs": [],
   "source": [
    "calls.groupby(\"Sentiment\")[\"Call Duration (Mins)\"].sum()"
   ]
  },
  {
   "cell_type": "code",
   "execution_count": null,
   "id": "b749ace0-e5be-4e70-9014-cae205202a8f",
   "metadata": {},
   "outputs": [],
   "source": [
    "(calls.groupby(\"Sentiment\")[\"Call Duration (Mins)\"].sum()*100/calls[\"Call Duration (Mins)\"].sum()).round(2)"
   ]
  }
 ],
 "metadata": {
  "kernelspec": {
   "display_name": "Python 3 (ipykernel)",
   "language": "python",
   "name": "python3"
  },
  "language_info": {
   "codemirror_mode": {
    "name": "ipython",
    "version": 3
   },
   "file_extension": ".py",
   "mimetype": "text/x-python",
   "name": "python",
   "nbconvert_exporter": "python",
   "pygments_lexer": "ipython3",
   "version": "3.12.4"
  }
 },
 "nbformat": 4,
 "nbformat_minor": 5
}
