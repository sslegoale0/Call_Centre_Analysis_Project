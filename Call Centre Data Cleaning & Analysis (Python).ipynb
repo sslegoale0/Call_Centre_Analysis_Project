{
 "cells": [
  {
   "cell_type": "markdown",
   "id": "d4e4d6cd-3554-4c02-9efb-0dde8323f3b7",
   "metadata": {},
   "source": [
    "## Call Centre Data Cleaning."
   ]
  },
  {
   "cell_type": "markdown",
   "id": "6812ffa0-839c-48a3-a6a7-b69d5a29fd15",
   "metadata": {},
   "source": [
    "#### Importing Python libraries for data analysis."
   ]
  },
  {
   "cell_type": "code",
   "execution_count": 3,
   "id": "02109e49-35f0-4c7c-a4ee-305ec6129eae",
   "metadata": {},
   "outputs": [],
   "source": [
    "import numpy as np\n",
    "import pandas as pd\n",
    "import matplotlib.pyplot as plt\n",
    "import seaborn as sns"
   ]
  },
  {
   "cell_type": "markdown",
   "id": "db83f070-cd04-4369-92b2-3feaede9950e",
   "metadata": {},
   "source": [
    "#### Importing Call Centre data into Jupyter Notebook."
   ]
  },
  {
   "cell_type": "code",
   "execution_count": 5,
   "id": "622b38ab-4269-44a5-837c-f9ac95b9454b",
   "metadata": {},
   "outputs": [],
   "source": [
    "calls = pd.read_excel(\"Call Centre Data.xlsx\")"
   ]
  },
  {
   "cell_type": "markdown",
   "id": "e6153b16-70e6-475f-a675-4ea70c81407a",
   "metadata": {},
   "source": [
    "#### Reading Call Centre dataset."
   ]
  },
  {
   "cell_type": "code",
   "execution_count": 7,
   "id": "ff258d20-dc10-4ad5-8bab-e9348b15f47d",
   "metadata": {},
   "outputs": [
    {
     "data": {
      "text/html": [
       "<div>\n",
       "<style scoped>\n",
       "    .dataframe tbody tr th:only-of-type {\n",
       "        vertical-align: middle;\n",
       "    }\n",
       "\n",
       "    .dataframe tbody tr th {\n",
       "        vertical-align: top;\n",
       "    }\n",
       "\n",
       "    .dataframe thead th {\n",
       "        text-align: right;\n",
       "    }\n",
       "</style>\n",
       "<table border=\"1\" class=\"dataframe\">\n",
       "  <thead>\n",
       "    <tr style=\"text-align: right;\">\n",
       "      <th></th>\n",
       "      <th>Id</th>\n",
       "      <th>Call Timestamp</th>\n",
       "      <th>Call-Centres City</th>\n",
       "      <th>Channel</th>\n",
       "      <th>City</th>\n",
       "      <th>Customer Name</th>\n",
       "      <th>Reason</th>\n",
       "      <th>Response Time</th>\n",
       "      <th>Sentiment</th>\n",
       "      <th>State</th>\n",
       "      <th>Call Duration In Minutes</th>\n",
       "      <th>Csat Score</th>\n",
       "    </tr>\n",
       "  </thead>\n",
       "  <tbody>\n",
       "    <tr>\n",
       "      <th>0</th>\n",
       "      <td>DKK-57076809-w-055481-fU</td>\n",
       "      <td>29-10-2020</td>\n",
       "      <td>Los Angeles</td>\n",
       "      <td>Call-Center</td>\n",
       "      <td>Detroit</td>\n",
       "      <td>Analise Gairdner</td>\n",
       "      <td>Billing Question</td>\n",
       "      <td>Within SLA</td>\n",
       "      <td>Neutral</td>\n",
       "      <td>Michigan</td>\n",
       "      <td>17</td>\n",
       "      <td>7.0</td>\n",
       "    </tr>\n",
       "    <tr>\n",
       "      <th>1</th>\n",
       "      <td>QGK-72219678-w-102139-KY</td>\n",
       "      <td>05-10-2020</td>\n",
       "      <td>Baltimore</td>\n",
       "      <td>Chatbot</td>\n",
       "      <td>Spartanburg</td>\n",
       "      <td>Crichton Kidsley</td>\n",
       "      <td>Service Outage</td>\n",
       "      <td>Within SLA</td>\n",
       "      <td>Very Positive</td>\n",
       "      <td>South Carolina</td>\n",
       "      <td>23</td>\n",
       "      <td>NaN</td>\n",
       "    </tr>\n",
       "    <tr>\n",
       "      <th>2</th>\n",
       "      <td>GYJ-30025932-A-023015-LD</td>\n",
       "      <td>04-10-2020</td>\n",
       "      <td>Los Angeles</td>\n",
       "      <td>Call-Center</td>\n",
       "      <td>Gainesville</td>\n",
       "      <td>Averill Brundrett</td>\n",
       "      <td>Billing Question</td>\n",
       "      <td>Above SLA</td>\n",
       "      <td>Negative</td>\n",
       "      <td>Florida</td>\n",
       "      <td>45</td>\n",
       "      <td>NaN</td>\n",
       "    </tr>\n",
       "    <tr>\n",
       "      <th>3</th>\n",
       "      <td>ZJI-96807559-i-620008-m7</td>\n",
       "      <td>17-10-2020</td>\n",
       "      <td>Los Angeles</td>\n",
       "      <td>Chatbot</td>\n",
       "      <td>Portland</td>\n",
       "      <td>Noreen Lafflina</td>\n",
       "      <td>Billing Question</td>\n",
       "      <td>Within SLA</td>\n",
       "      <td>Very Negative</td>\n",
       "      <td>Oregon</td>\n",
       "      <td>12</td>\n",
       "      <td>1.0</td>\n",
       "    </tr>\n",
       "    <tr>\n",
       "      <th>4</th>\n",
       "      <td>DDU-69451719-O-176482-Fm</td>\n",
       "      <td>17-10-2020</td>\n",
       "      <td>Los Angeles</td>\n",
       "      <td>Call-Center</td>\n",
       "      <td>Fort Wayne</td>\n",
       "      <td>Toma Van der Beken</td>\n",
       "      <td>Payments</td>\n",
       "      <td>Within SLA</td>\n",
       "      <td>Very Positive</td>\n",
       "      <td>Indiana</td>\n",
       "      <td>23</td>\n",
       "      <td>NaN</td>\n",
       "    </tr>\n",
       "    <tr>\n",
       "      <th>...</th>\n",
       "      <td>...</td>\n",
       "      <td>...</td>\n",
       "      <td>...</td>\n",
       "      <td>...</td>\n",
       "      <td>...</td>\n",
       "      <td>...</td>\n",
       "      <td>...</td>\n",
       "      <td>...</td>\n",
       "      <td>...</td>\n",
       "      <td>...</td>\n",
       "      <td>...</td>\n",
       "      <td>...</td>\n",
       "    </tr>\n",
       "    <tr>\n",
       "      <th>32936</th>\n",
       "      <td>IBZ-31554817-e-308536-ce</td>\n",
       "      <td>03-10-2020</td>\n",
       "      <td>Los Angeles</td>\n",
       "      <td>Web</td>\n",
       "      <td>Amarillo</td>\n",
       "      <td>Jimmy Lewer</td>\n",
       "      <td>Service Outage</td>\n",
       "      <td>Within SLA</td>\n",
       "      <td>Very Positive</td>\n",
       "      <td>Texas</td>\n",
       "      <td>39</td>\n",
       "      <td>10.0</td>\n",
       "    </tr>\n",
       "    <tr>\n",
       "      <th>32937</th>\n",
       "      <td>ZGB-67012647-l-746192-D4</td>\n",
       "      <td>11-10-2020</td>\n",
       "      <td>Los Angeles</td>\n",
       "      <td>Web</td>\n",
       "      <td>Alexandria</td>\n",
       "      <td>Amanda Sijmons</td>\n",
       "      <td>Service Outage</td>\n",
       "      <td>Within SLA</td>\n",
       "      <td>Very Positive</td>\n",
       "      <td>Virginia</td>\n",
       "      <td>26</td>\n",
       "      <td>10.0</td>\n",
       "    </tr>\n",
       "    <tr>\n",
       "      <th>32938</th>\n",
       "      <td>UGZ-65514208-Y-431082-Vt</td>\n",
       "      <td>14-10-2020</td>\n",
       "      <td>Los Angeles</td>\n",
       "      <td>Web</td>\n",
       "      <td>Boise</td>\n",
       "      <td>Prudy Sheppard</td>\n",
       "      <td>Service Outage</td>\n",
       "      <td>Within SLA</td>\n",
       "      <td>Very Positive</td>\n",
       "      <td>Idaho</td>\n",
       "      <td>8</td>\n",
       "      <td>10.0</td>\n",
       "    </tr>\n",
       "    <tr>\n",
       "      <th>32939</th>\n",
       "      <td>KFH-61834342-f-122443-Md</td>\n",
       "      <td>15-10-2020</td>\n",
       "      <td>Los Angeles</td>\n",
       "      <td>Web</td>\n",
       "      <td>Buffalo</td>\n",
       "      <td>Gloriana Haythorne</td>\n",
       "      <td>Service Outage</td>\n",
       "      <td>Within SLA</td>\n",
       "      <td>Very Positive</td>\n",
       "      <td>New York</td>\n",
       "      <td>25</td>\n",
       "      <td>10.0</td>\n",
       "    </tr>\n",
       "    <tr>\n",
       "      <th>32940</th>\n",
       "      <td>IPC-37839857-x-696231-wz</td>\n",
       "      <td>20-10-2020</td>\n",
       "      <td>Los Angeles</td>\n",
       "      <td>Web</td>\n",
       "      <td>Los Angeles</td>\n",
       "      <td>Kile Sumption</td>\n",
       "      <td>Service Outage</td>\n",
       "      <td>Within SLA</td>\n",
       "      <td>Very Positive</td>\n",
       "      <td>California</td>\n",
       "      <td>22</td>\n",
       "      <td>10.0</td>\n",
       "    </tr>\n",
       "  </tbody>\n",
       "</table>\n",
       "<p>32941 rows × 12 columns</p>\n",
       "</div>"
      ],
      "text/plain": [
       "                             Id Call Timestamp Call-Centres City      Channel  \\\n",
       "0      DKK-57076809-w-055481-fU     29-10-2020       Los Angeles  Call-Center   \n",
       "1      QGK-72219678-w-102139-KY     05-10-2020         Baltimore      Chatbot   \n",
       "2      GYJ-30025932-A-023015-LD     04-10-2020       Los Angeles  Call-Center   \n",
       "3      ZJI-96807559-i-620008-m7     17-10-2020       Los Angeles      Chatbot   \n",
       "4      DDU-69451719-O-176482-Fm     17-10-2020       Los Angeles  Call-Center   \n",
       "...                         ...            ...               ...          ...   \n",
       "32936  IBZ-31554817-e-308536-ce     03-10-2020       Los Angeles          Web   \n",
       "32937  ZGB-67012647-l-746192-D4     11-10-2020       Los Angeles          Web   \n",
       "32938  UGZ-65514208-Y-431082-Vt     14-10-2020       Los Angeles          Web   \n",
       "32939  KFH-61834342-f-122443-Md     15-10-2020       Los Angeles          Web   \n",
       "32940  IPC-37839857-x-696231-wz     20-10-2020       Los Angeles          Web   \n",
       "\n",
       "              City       Customer Name            Reason Response Time  \\\n",
       "0          Detroit    Analise Gairdner  Billing Question    Within SLA   \n",
       "1      Spartanburg    Crichton Kidsley    Service Outage    Within SLA   \n",
       "2      Gainesville   Averill Brundrett  Billing Question     Above SLA   \n",
       "3         Portland     Noreen Lafflina  Billing Question    Within SLA   \n",
       "4       Fort Wayne  Toma Van der Beken          Payments    Within SLA   \n",
       "...            ...                 ...               ...           ...   \n",
       "32936     Amarillo         Jimmy Lewer    Service Outage    Within SLA   \n",
       "32937   Alexandria      Amanda Sijmons    Service Outage    Within SLA   \n",
       "32938        Boise      Prudy Sheppard    Service Outage    Within SLA   \n",
       "32939      Buffalo  Gloriana Haythorne    Service Outage    Within SLA   \n",
       "32940  Los Angeles       Kile Sumption    Service Outage    Within SLA   \n",
       "\n",
       "           Sentiment           State  Call Duration In Minutes  Csat Score  \n",
       "0            Neutral        Michigan                        17         7.0  \n",
       "1      Very Positive  South Carolina                        23         NaN  \n",
       "2           Negative         Florida                        45         NaN  \n",
       "3      Very Negative          Oregon                        12         1.0  \n",
       "4      Very Positive         Indiana                        23         NaN  \n",
       "...              ...             ...                       ...         ...  \n",
       "32936  Very Positive           Texas                        39        10.0  \n",
       "32937  Very Positive        Virginia                        26        10.0  \n",
       "32938  Very Positive           Idaho                         8        10.0  \n",
       "32939  Very Positive        New York                        25        10.0  \n",
       "32940  Very Positive      California                        22        10.0  \n",
       "\n",
       "[32941 rows x 12 columns]"
      ]
     },
     "execution_count": 7,
     "metadata": {},
     "output_type": "execute_result"
    }
   ],
   "source": [
    "calls"
   ]
  },
  {
   "cell_type": "markdown",
   "id": "6232fd31-46bd-4463-b3fb-a3310fe6bd9d",
   "metadata": {},
   "source": [
    "#### Getting information on the Call Centre data."
   ]
  },
  {
   "cell_type": "code",
   "execution_count": 9,
   "id": "7795d628-06ee-41df-9e7f-99ed511b09f5",
   "metadata": {},
   "outputs": [
    {
     "name": "stdout",
     "output_type": "stream",
     "text": [
      "<class 'pandas.core.frame.DataFrame'>\n",
      "RangeIndex: 32941 entries, 0 to 32940\n",
      "Data columns (total 12 columns):\n",
      " #   Column                    Non-Null Count  Dtype  \n",
      "---  ------                    --------------  -----  \n",
      " 0   Id                        32941 non-null  object \n",
      " 1   Call Timestamp            32941 non-null  object \n",
      " 2   Call-Centres City         32941 non-null  object \n",
      " 3   Channel                   32941 non-null  object \n",
      " 4   City                      32941 non-null  object \n",
      " 5   Customer Name             32941 non-null  object \n",
      " 6   Reason                    32941 non-null  object \n",
      " 7   Response Time             32941 non-null  object \n",
      " 8   Sentiment                 32941 non-null  object \n",
      " 9   State                     32941 non-null  object \n",
      " 10  Call Duration In Minutes  32941 non-null  int64  \n",
      " 11  Csat Score                12271 non-null  float64\n",
      "dtypes: float64(1), int64(1), object(10)\n",
      "memory usage: 3.0+ MB\n"
     ]
    }
   ],
   "source": [
    "calls.info()"
   ]
  },
  {
   "cell_type": "markdown",
   "id": "e1f2e1e9-e84a-4cfc-9e18-e2b21a0c43cf",
   "metadata": {},
   "source": [
    "### 1. Removal of duplicated rows."
   ]
  },
  {
   "cell_type": "code",
   "execution_count": 11,
   "id": "4cc615cb-5a3c-43bc-8dae-9a8dad5cfdb7",
   "metadata": {},
   "outputs": [
    {
     "data": {
      "text/plain": [
       "False"
      ]
     },
     "execution_count": 11,
     "metadata": {},
     "output_type": "execute_result"
    }
   ],
   "source": [
    "calls.duplicated().any()"
   ]
  },
  {
   "cell_type": "code",
   "execution_count": 12,
   "id": "67d9af75-21c4-4a62-bdc8-4ea1cea55697",
   "metadata": {},
   "outputs": [
    {
     "data": {
      "text/html": [
       "<div>\n",
       "<style scoped>\n",
       "    .dataframe tbody tr th:only-of-type {\n",
       "        vertical-align: middle;\n",
       "    }\n",
       "\n",
       "    .dataframe tbody tr th {\n",
       "        vertical-align: top;\n",
       "    }\n",
       "\n",
       "    .dataframe thead th {\n",
       "        text-align: right;\n",
       "    }\n",
       "</style>\n",
       "<table border=\"1\" class=\"dataframe\">\n",
       "  <thead>\n",
       "    <tr style=\"text-align: right;\">\n",
       "      <th></th>\n",
       "      <th>Id</th>\n",
       "      <th>Call Timestamp</th>\n",
       "      <th>Call-Centres City</th>\n",
       "      <th>Channel</th>\n",
       "      <th>City</th>\n",
       "      <th>Customer Name</th>\n",
       "      <th>Reason</th>\n",
       "      <th>Response Time</th>\n",
       "      <th>Sentiment</th>\n",
       "      <th>State</th>\n",
       "      <th>Call Duration In Minutes</th>\n",
       "      <th>Csat Score</th>\n",
       "    </tr>\n",
       "  </thead>\n",
       "  <tbody>\n",
       "  </tbody>\n",
       "</table>\n",
       "</div>"
      ],
      "text/plain": [
       "Empty DataFrame\n",
       "Columns: [Id, Call Timestamp, Call-Centres City, Channel, City, Customer Name, Reason, Response Time, Sentiment, State, Call Duration In Minutes, Csat Score]\n",
       "Index: []"
      ]
     },
     "execution_count": 12,
     "metadata": {},
     "output_type": "execute_result"
    }
   ],
   "source": [
    "calls[calls[\"Id\"].duplicated() == 1]"
   ]
  },
  {
   "cell_type": "markdown",
   "id": "38b56acf-a28f-48ef-b8f8-3439d1875d05",
   "metadata": {},
   "source": [
    "### 2. Data formatting & standardisation."
   ]
  },
  {
   "cell_type": "code",
   "execution_count": 14,
   "id": "5e54f324-7fde-4ebd-a467-8554df12a76f",
   "metadata": {},
   "outputs": [
    {
     "data": {
      "text/plain": [
       "0        DKK-57076809-w-055481-fU\n",
       "1        QGK-72219678-w-102139-KY\n",
       "2        GYJ-30025932-A-023015-LD\n",
       "3        ZJI-96807559-i-620008-m7\n",
       "4        DDU-69451719-O-176482-Fm\n",
       "                   ...           \n",
       "32936    IBZ-31554817-e-308536-ce\n",
       "32937    ZGB-67012647-l-746192-D4\n",
       "32938    UGZ-65514208-Y-431082-Vt\n",
       "32939    KFH-61834342-f-122443-Md\n",
       "32940    IPC-37839857-x-696231-wz\n",
       "Name: Id, Length: 32941, dtype: object"
      ]
     },
     "execution_count": 14,
     "metadata": {},
     "output_type": "execute_result"
    }
   ],
   "source": [
    "calls[\"Id\"]"
   ]
  },
  {
   "cell_type": "code",
   "execution_count": 15,
   "id": "039a493d-4b8d-4bdd-bf38-cdf9f5ff8a83",
   "metadata": {},
   "outputs": [],
   "source": [
    "calls[\"Id\"] = calls[\"Id\"].str.upper()"
   ]
  },
  {
   "cell_type": "code",
   "execution_count": 16,
   "id": "9e234677-9fd8-47c0-987c-62b76ed19185",
   "metadata": {},
   "outputs": [],
   "source": [
    "calls = calls.rename(columns = {\"Id\" : \"Call Id\"})"
   ]
  },
  {
   "cell_type": "code",
   "execution_count": 17,
   "id": "a6ee55ad-2080-4b18-bd1e-21deebeb051f",
   "metadata": {},
   "outputs": [
    {
     "data": {
      "text/plain": [
       "0        DKK-57076809-W-055481-FU\n",
       "1        QGK-72219678-W-102139-KY\n",
       "2        GYJ-30025932-A-023015-LD\n",
       "3        ZJI-96807559-I-620008-M7\n",
       "4        DDU-69451719-O-176482-FM\n",
       "                   ...           \n",
       "32936    IBZ-31554817-E-308536-CE\n",
       "32937    ZGB-67012647-L-746192-D4\n",
       "32938    UGZ-65514208-Y-431082-VT\n",
       "32939    KFH-61834342-F-122443-MD\n",
       "32940    IPC-37839857-X-696231-WZ\n",
       "Name: Call Id, Length: 32941, dtype: object"
      ]
     },
     "execution_count": 17,
     "metadata": {},
     "output_type": "execute_result"
    }
   ],
   "source": [
    "calls[\"Call Id\"]"
   ]
  },
  {
   "cell_type": "code",
   "execution_count": 18,
   "id": "3059b2eb-6a65-460d-8d19-c7e01711f115",
   "metadata": {},
   "outputs": [
    {
     "data": {
      "text/plain": [
       "array(['01-10-2020', '02-10-2020', '03-10-2020', '04-10-2020',\n",
       "       '05-10-2020', '06-10-2020', '07-10-2020', '08-10-2020',\n",
       "       '09-10-2020', '10-10-2020', '11-10-2020', '12-10-2020',\n",
       "       '13-10-2020', '14-10-2020', '15-10-2020', '16-10-2020',\n",
       "       '17-10-2020', '18-10-2020', '19-10-2020', '20-10-2020',\n",
       "       '21-10-2020', '22-10-2020', '23-10-2020', '24-10-2020',\n",
       "       '25-10-2020', '26-10-2020', '27-10-2020', '28-10-2020',\n",
       "       '29-10-2020', '30-10-2020', '31-10-2020'], dtype=object)"
      ]
     },
     "execution_count": 18,
     "metadata": {},
     "output_type": "execute_result"
    }
   ],
   "source": [
    "calls[\"Call Timestamp\"].sort_values().unique()"
   ]
  },
  {
   "cell_type": "code",
   "execution_count": 19,
   "id": "fcd8bbe1-ab46-43df-bf8f-837959f8a787",
   "metadata": {},
   "outputs": [],
   "source": [
    "calls[\"Call Timestamp\"] = pd.to_datetime(calls[\"Call Timestamp\"], format= \"%d-%m-%Y\")"
   ]
  },
  {
   "cell_type": "code",
   "execution_count": 20,
   "id": "4d37033e-9710-420f-bc1f-4c6a66b1f26f",
   "metadata": {},
   "outputs": [],
   "source": [
    "calls = calls.rename(columns = {\"Call Timestamp\" : \"Call Date\"})"
   ]
  },
  {
   "cell_type": "code",
   "execution_count": 21,
   "id": "277f9e37-92b7-48bf-ba3c-8aafb696a1d4",
   "metadata": {},
   "outputs": [
    {
     "data": {
      "text/plain": [
       "<DatetimeArray>\n",
       "['2020-10-01 00:00:00', '2020-10-02 00:00:00', '2020-10-03 00:00:00',\n",
       " '2020-10-04 00:00:00', '2020-10-05 00:00:00', '2020-10-06 00:00:00',\n",
       " '2020-10-07 00:00:00', '2020-10-08 00:00:00', '2020-10-09 00:00:00',\n",
       " '2020-10-10 00:00:00', '2020-10-11 00:00:00', '2020-10-12 00:00:00',\n",
       " '2020-10-13 00:00:00', '2020-10-14 00:00:00', '2020-10-15 00:00:00',\n",
       " '2020-10-16 00:00:00', '2020-10-17 00:00:00', '2020-10-18 00:00:00',\n",
       " '2020-10-19 00:00:00', '2020-10-20 00:00:00', '2020-10-21 00:00:00',\n",
       " '2020-10-22 00:00:00', '2020-10-23 00:00:00', '2020-10-24 00:00:00',\n",
       " '2020-10-25 00:00:00', '2020-10-26 00:00:00', '2020-10-27 00:00:00',\n",
       " '2020-10-28 00:00:00', '2020-10-29 00:00:00', '2020-10-30 00:00:00',\n",
       " '2020-10-31 00:00:00']\n",
       "Length: 31, dtype: datetime64[ns]"
      ]
     },
     "execution_count": 21,
     "metadata": {},
     "output_type": "execute_result"
    }
   ],
   "source": [
    "calls[\"Call Date\"].sort_values().unique()"
   ]
  },
  {
   "cell_type": "code",
   "execution_count": 22,
   "id": "4b21ff6c-f89d-4381-aedd-18120b9bcc02",
   "metadata": {},
   "outputs": [
    {
     "data": {
      "text/plain": [
       "array(['Los Angeles', 'Baltimore', 'Denver', 'Chicago'], dtype=object)"
      ]
     },
     "execution_count": 22,
     "metadata": {},
     "output_type": "execute_result"
    }
   ],
   "source": [
    "calls[\"Call-Centres City\"].unique()"
   ]
  },
  {
   "cell_type": "code",
   "execution_count": 23,
   "id": "84856608-2c41-4f1a-9ab3-8db42adf921d",
   "metadata": {},
   "outputs": [],
   "source": [
    "calls = calls.rename(columns = {\"Call-Centres City\" : \"Call Centre City\"})"
   ]
  },
  {
   "cell_type": "code",
   "execution_count": 24,
   "id": "9843516b-c8c5-4afd-8a27-5a4f4b8f8314",
   "metadata": {},
   "outputs": [
    {
     "data": {
      "text/plain": [
       "array(['Call-Center', 'Chatbot', 'Email', 'Web'], dtype=object)"
      ]
     },
     "execution_count": 24,
     "metadata": {},
     "output_type": "execute_result"
    }
   ],
   "source": [
    "calls[\"Channel\"].unique()"
   ]
  },
  {
   "cell_type": "code",
   "execution_count": 25,
   "id": "beeebd9f-3943-4752-8735-793931a384d2",
   "metadata": {},
   "outputs": [],
   "source": [
    "calls[\"Channel\"] = calls[\"Channel\"].str.replace(\"Call-Center\", \"Call Centre\")"
   ]
  },
  {
   "cell_type": "code",
   "execution_count": 26,
   "id": "5d674247-e160-433d-82db-88b48d0c4bce",
   "metadata": {},
   "outputs": [
    {
     "data": {
      "text/plain": [
       "array(['Billing Question', 'Service Outage', 'Payments'], dtype=object)"
      ]
     },
     "execution_count": 26,
     "metadata": {},
     "output_type": "execute_result"
    }
   ],
   "source": [
    "calls[\"Reason\"].unique()"
   ]
  },
  {
   "cell_type": "code",
   "execution_count": 27,
   "id": "41b9b43f-2ccb-42e9-b570-b96a7c0fdb38",
   "metadata": {},
   "outputs": [
    {
     "data": {
      "text/plain": [
       "array(['Within SLA', 'Above SLA', 'Below SLA'], dtype=object)"
      ]
     },
     "execution_count": 27,
     "metadata": {},
     "output_type": "execute_result"
    }
   ],
   "source": [
    "calls[\"Response Time\"].unique()"
   ]
  },
  {
   "cell_type": "code",
   "execution_count": 28,
   "id": "334b07c6-7cd6-44bc-8a60-47d9348e029a",
   "metadata": {},
   "outputs": [
    {
     "data": {
      "text/plain": [
       "array(['Neutral', 'Very Positive', 'Negative', 'Very Negative',\n",
       "       'Positive'], dtype=object)"
      ]
     },
     "execution_count": 28,
     "metadata": {},
     "output_type": "execute_result"
    }
   ],
   "source": [
    "calls[\"Sentiment\"].unique()"
   ]
  },
  {
   "cell_type": "code",
   "execution_count": 29,
   "id": "353acda6-1e9f-486b-ba0c-891a291cf60a",
   "metadata": {},
   "outputs": [
    {
     "data": {
      "text/plain": [
       "array(['Alabama', 'Alaska', 'Arizona', 'Arkansas', 'California',\n",
       "       'Colorado', 'Connecticut', 'Delaware', 'District of Columbia',\n",
       "       'Florida', 'Georgia', 'Hawaii', 'Idaho', 'Illinois', 'Indiana',\n",
       "       'Iowa', 'Kansas', 'Kentucky', 'Louisiana', 'Maine', 'Maryland',\n",
       "       'Massachusetts', 'Michigan', 'Minnesota', 'Mississippi',\n",
       "       'Missouri', 'Montana', 'Nebraska', 'Nevada', 'New Hampshire',\n",
       "       'New Jersey', 'New Mexico', 'New York', 'North Carolina',\n",
       "       'North Dakota', 'Ohio', 'Oklahoma', 'Oregon', 'Pennsylvania',\n",
       "       'Rhode Island', 'South Carolina', 'South Dakota', 'Tennessee',\n",
       "       'Texas', 'Utah', 'Vermont', 'Virginia', 'Washington',\n",
       "       'West Virginia', 'Wisconsin', 'Wyoming'], dtype=object)"
      ]
     },
     "execution_count": 29,
     "metadata": {},
     "output_type": "execute_result"
    }
   ],
   "source": [
    "calls[\"State\"].sort_values().unique()"
   ]
  },
  {
   "cell_type": "code",
   "execution_count": 30,
   "id": "deab2bdf-4b00-4230-89cd-36fdb29d662c",
   "metadata": {},
   "outputs": [
    {
     "data": {
      "text/plain": [
       "array([ 5,  6,  7,  8,  9, 10, 11, 12, 13, 14, 15, 16, 17, 18, 19, 20, 21,\n",
       "       22, 23, 24, 25, 26, 27, 28, 29, 30, 31, 32, 33, 34, 35, 36, 37, 38,\n",
       "       39, 40, 41, 42, 43, 44, 45], dtype=int64)"
      ]
     },
     "execution_count": 30,
     "metadata": {},
     "output_type": "execute_result"
    }
   ],
   "source": [
    "calls[\"Call Duration In Minutes\"].sort_values().unique()"
   ]
  },
  {
   "cell_type": "code",
   "execution_count": 31,
   "id": "4b85f50c-5d71-4f8e-b615-489ebf931a3c",
   "metadata": {},
   "outputs": [],
   "source": [
    "calls = calls.rename(columns = {\"Call Duration In Minutes\" : \"Call Duration (Mins)\"})"
   ]
  },
  {
   "cell_type": "code",
   "execution_count": 32,
   "id": "13e16b20-380a-4292-b55e-bce8d890ffa3",
   "metadata": {},
   "outputs": [
    {
     "data": {
      "text/plain": [
       "array([ 1.,  2.,  3.,  4.,  5.,  6.,  7.,  8.,  9., 10., nan])"
      ]
     },
     "execution_count": 32,
     "metadata": {},
     "output_type": "execute_result"
    }
   ],
   "source": [
    "calls[\"Csat Score\"].sort_values().unique()"
   ]
  },
  {
   "cell_type": "code",
   "execution_count": 33,
   "id": "c3c24c18-66e9-4b5c-a631-4de7169d80b3",
   "metadata": {},
   "outputs": [],
   "source": [
    "calls = calls.rename(columns = {\"Csat Score\" : \"CSAT Score\"})"
   ]
  },
  {
   "cell_type": "markdown",
   "id": "1d378b97-7bcc-45b8-90cf-c145d4e25a90",
   "metadata": {},
   "source": [
    "### 3. Imputation of blank/null values."
   ]
  },
  {
   "cell_type": "code",
   "execution_count": 35,
   "id": "fdfff253-8de3-43e2-9615-56caf83b89e4",
   "metadata": {},
   "outputs": [
    {
     "data": {
      "text/plain": [
       "Call Id                     0\n",
       "Call Date                   0\n",
       "Call Centre City            0\n",
       "Channel                     0\n",
       "City                        0\n",
       "Customer Name               0\n",
       "Reason                      0\n",
       "Response Time               0\n",
       "Sentiment                   0\n",
       "State                       0\n",
       "Call Duration (Mins)        0\n",
       "CSAT Score              20670\n",
       "dtype: int64"
      ]
     },
     "execution_count": 35,
     "metadata": {},
     "output_type": "execute_result"
    }
   ],
   "source": [
    "calls.isnull().sum()"
   ]
  },
  {
   "cell_type": "code",
   "execution_count": 36,
   "id": "8fcc03ca-e9d1-4560-b141-05628f4085cf",
   "metadata": {},
   "outputs": [],
   "source": [
    "#Using mean substitution method to impute blank"
   ]
  },
  {
   "cell_type": "code",
   "execution_count": 37,
   "id": "55ba71ba-dc29-46ba-aacf-62e1b90f24ea",
   "metadata": {},
   "outputs": [
    {
     "data": {
      "text/html": [
       "<div>\n",
       "<style scoped>\n",
       "    .dataframe tbody tr th:only-of-type {\n",
       "        vertical-align: middle;\n",
       "    }\n",
       "\n",
       "    .dataframe tbody tr th {\n",
       "        vertical-align: top;\n",
       "    }\n",
       "\n",
       "    .dataframe thead th {\n",
       "        text-align: right;\n",
       "    }\n",
       "</style>\n",
       "<table border=\"1\" class=\"dataframe\">\n",
       "  <thead>\n",
       "    <tr style=\"text-align: right;\">\n",
       "      <th></th>\n",
       "      <th>CSAT Score</th>\n",
       "      <th>Sentiment</th>\n",
       "    </tr>\n",
       "  </thead>\n",
       "  <tbody>\n",
       "    <tr>\n",
       "      <th>3</th>\n",
       "      <td>1.0</td>\n",
       "      <td>Very Negative</td>\n",
       "    </tr>\n",
       "    <tr>\n",
       "      <th>22</th>\n",
       "      <td>2.0</td>\n",
       "      <td>Very Negative</td>\n",
       "    </tr>\n",
       "    <tr>\n",
       "      <th>199</th>\n",
       "      <td>3.0</td>\n",
       "      <td>Negative</td>\n",
       "    </tr>\n",
       "    <tr>\n",
       "      <th>52</th>\n",
       "      <td>3.0</td>\n",
       "      <td>Very Negative</td>\n",
       "    </tr>\n",
       "    <tr>\n",
       "      <th>15</th>\n",
       "      <td>4.0</td>\n",
       "      <td>Negative</td>\n",
       "    </tr>\n",
       "    <tr>\n",
       "      <th>124</th>\n",
       "      <td>4.0</td>\n",
       "      <td>Very Negative</td>\n",
       "    </tr>\n",
       "    <tr>\n",
       "      <th>21</th>\n",
       "      <td>5.0</td>\n",
       "      <td>Negative</td>\n",
       "    </tr>\n",
       "    <tr>\n",
       "      <th>5</th>\n",
       "      <td>5.0</td>\n",
       "      <td>Neutral</td>\n",
       "    </tr>\n",
       "    <tr>\n",
       "      <th>29</th>\n",
       "      <td>6.0</td>\n",
       "      <td>Negative</td>\n",
       "    </tr>\n",
       "    <tr>\n",
       "      <th>78</th>\n",
       "      <td>6.0</td>\n",
       "      <td>Neutral</td>\n",
       "    </tr>\n",
       "    <tr>\n",
       "      <th>0</th>\n",
       "      <td>7.0</td>\n",
       "      <td>Neutral</td>\n",
       "    </tr>\n",
       "    <tr>\n",
       "      <th>13</th>\n",
       "      <td>7.0</td>\n",
       "      <td>Positive</td>\n",
       "    </tr>\n",
       "    <tr>\n",
       "      <th>6</th>\n",
       "      <td>8.0</td>\n",
       "      <td>Neutral</td>\n",
       "    </tr>\n",
       "    <tr>\n",
       "      <th>54</th>\n",
       "      <td>8.0</td>\n",
       "      <td>Positive</td>\n",
       "    </tr>\n",
       "    <tr>\n",
       "      <th>47</th>\n",
       "      <td>9.0</td>\n",
       "      <td>Positive</td>\n",
       "    </tr>\n",
       "    <tr>\n",
       "      <th>39</th>\n",
       "      <td>9.0</td>\n",
       "      <td>Very Positive</td>\n",
       "    </tr>\n",
       "    <tr>\n",
       "      <th>65</th>\n",
       "      <td>10.0</td>\n",
       "      <td>Very Positive</td>\n",
       "    </tr>\n",
       "    <tr>\n",
       "      <th>2</th>\n",
       "      <td>NaN</td>\n",
       "      <td>Negative</td>\n",
       "    </tr>\n",
       "    <tr>\n",
       "      <th>9</th>\n",
       "      <td>NaN</td>\n",
       "      <td>Neutral</td>\n",
       "    </tr>\n",
       "    <tr>\n",
       "      <th>7</th>\n",
       "      <td>NaN</td>\n",
       "      <td>Positive</td>\n",
       "    </tr>\n",
       "    <tr>\n",
       "      <th>8</th>\n",
       "      <td>NaN</td>\n",
       "      <td>Very Negative</td>\n",
       "    </tr>\n",
       "    <tr>\n",
       "      <th>1</th>\n",
       "      <td>NaN</td>\n",
       "      <td>Very Positive</td>\n",
       "    </tr>\n",
       "  </tbody>\n",
       "</table>\n",
       "</div>"
      ],
      "text/plain": [
       "     CSAT Score      Sentiment\n",
       "3           1.0  Very Negative\n",
       "22          2.0  Very Negative\n",
       "199         3.0       Negative\n",
       "52          3.0  Very Negative\n",
       "15          4.0       Negative\n",
       "124         4.0  Very Negative\n",
       "21          5.0       Negative\n",
       "5           5.0        Neutral\n",
       "29          6.0       Negative\n",
       "78          6.0        Neutral\n",
       "0           7.0        Neutral\n",
       "13          7.0       Positive\n",
       "6           8.0        Neutral\n",
       "54          8.0       Positive\n",
       "47          9.0       Positive\n",
       "39          9.0  Very Positive\n",
       "65         10.0  Very Positive\n",
       "2           NaN       Negative\n",
       "9           NaN        Neutral\n",
       "7           NaN       Positive\n",
       "8           NaN  Very Negative\n",
       "1           NaN  Very Positive"
      ]
     },
     "execution_count": 37,
     "metadata": {},
     "output_type": "execute_result"
    }
   ],
   "source": [
    "calls[[\"CSAT Score\", \"Sentiment\"]].sort_values(by = [\"CSAT Score\",\"Sentiment\"], ascending=[True, True]).drop_duplicates()"
   ]
  },
  {
   "cell_type": "markdown",
   "id": "9a5d5053-75c5-4c24-bc6b-70a0a1a85b50",
   "metadata": {},
   "source": [
    "### 4. Removal of unnecessary columns."
   ]
  },
  {
   "cell_type": "code",
   "execution_count": 39,
   "id": "f61b864c-c6c2-40e5-88b4-41fdacefe994",
   "metadata": {},
   "outputs": [],
   "source": [
    "#Kept all columns, no unnecessary columns."
   ]
  },
  {
   "cell_type": "markdown",
   "id": "47965719-0525-453f-8389-91dfc1547c57",
   "metadata": {},
   "source": [
    "### 5. Filtration & aggregation of dataframe."
   ]
  },
  {
   "cell_type": "code",
   "execution_count": 41,
   "id": "50aa31a4-5f3a-4f48-badb-85873c3a9043",
   "metadata": {},
   "outputs": [],
   "source": [
    "calls = calls[(~calls[\"State\"].isin([\"Alaska\", \"Hawaii\"])) & (calls[\"Call Date\"] != \"2020-10-31\")]"
   ]
  },
  {
   "cell_type": "markdown",
   "id": "350468ae-46d4-4e55-aecf-396ebbbaf78a",
   "metadata": {},
   "source": [
    "## Call Centre Data Analysis."
   ]
  },
  {
   "cell_type": "markdown",
   "id": "eb1a6e29-5e7e-4002-a512-a5f34969505c",
   "metadata": {},
   "source": [
    "#### 1. Total calls"
   ]
  },
  {
   "cell_type": "code",
   "execution_count": 44,
   "id": "dba9a547-8c48-456d-81d9-b2f498e8018d",
   "metadata": {},
   "outputs": [
    {
     "data": {
      "text/plain": [
       "32645"
      ]
     },
     "execution_count": 44,
     "metadata": {},
     "output_type": "execute_result"
    }
   ],
   "source": [
    "calls[\"Call Id\"].count()"
   ]
  },
  {
   "cell_type": "markdown",
   "id": "73cb9ef4-0c3f-4ea4-a1b7-be8af7057fc6",
   "metadata": {},
   "source": [
    "#### 2. Total Call Duration (Mins)"
   ]
  },
  {
   "cell_type": "code",
   "execution_count": 46,
   "id": "308d9d70-fc81-4150-bb96-5930ae1872ef",
   "metadata": {},
   "outputs": [
    {
     "data": {
      "text/plain": [
       "816873"
      ]
     },
     "execution_count": 46,
     "metadata": {},
     "output_type": "execute_result"
    }
   ],
   "source": [
    "calls[\"Call Duration (Mins)\"].sum()"
   ]
  },
  {
   "cell_type": "markdown",
   "id": "d95e899b-aa90-486d-a88d-56c28663b877",
   "metadata": {},
   "source": [
    "#### 3. Average Call Duration (Mins)"
   ]
  },
  {
   "cell_type": "code",
   "execution_count": 48,
   "id": "99a15570-d662-4263-a6a8-209f8741682f",
   "metadata": {},
   "outputs": [
    {
     "data": {
      "text/plain": [
       "25.02"
      ]
     },
     "execution_count": 48,
     "metadata": {},
     "output_type": "execute_result"
    }
   ],
   "source": [
    "calls[\"Call Duration (Mins)\"].mean().round(2)"
   ]
  },
  {
   "cell_type": "markdown",
   "id": "992ca8fb-39d7-40ca-b727-d042ea653705",
   "metadata": {},
   "source": [
    "#### 4. Average CSAT Score"
   ]
  },
  {
   "cell_type": "code",
   "execution_count": 50,
   "id": "6be4f7b1-3373-4074-963e-54a2df1bad2c",
   "metadata": {},
   "outputs": [
    {
     "data": {
      "text/plain": [
       "5.55"
      ]
     },
     "execution_count": 50,
     "metadata": {},
     "output_type": "execute_result"
    }
   ],
   "source": [
    "calls[\"CSAT Score\"].mean().round(2)"
   ]
  },
  {
   "cell_type": "markdown",
   "id": "2d130a59-a0de-4d28-9899-9ae1cecffbc4",
   "metadata": {},
   "source": [
    "#### 5. Total calls by Call Date."
   ]
  },
  {
   "cell_type": "code",
   "execution_count": 52,
   "id": "fb35d8f3-5311-4610-998d-3aff5a90ddcc",
   "metadata": {},
   "outputs": [
    {
     "data": {
      "text/plain": [
       "Call Date\n",
       "2020-10-01    1075\n",
       "2020-10-02    1077\n",
       "2020-10-03    1075\n",
       "2020-10-04    1038\n",
       "2020-10-05    1081\n",
       "2020-10-06    1140\n",
       "2020-10-07    1038\n",
       "2020-10-08    1057\n",
       "2020-10-09    1115\n",
       "2020-10-10    1084\n",
       "2020-10-11    1073\n",
       "2020-10-12    1078\n",
       "2020-10-13    1107\n",
       "2020-10-14    1078\n",
       "2020-10-15    1093\n",
       "2020-10-16    1124\n",
       "2020-10-17    1114\n",
       "2020-10-18    1085\n",
       "2020-10-19    1093\n",
       "2020-10-20    1071\n",
       "2020-10-21    1160\n",
       "2020-10-22    1157\n",
       "2020-10-23    1103\n",
       "2020-10-24    1089\n",
       "2020-10-25    1058\n",
       "2020-10-26    1037\n",
       "2020-10-27    1051\n",
       "2020-10-28    1136\n",
       "2020-10-29    1046\n",
       "2020-10-30    1112\n",
       "Name: Call Id, dtype: int64"
      ]
     },
     "execution_count": 52,
     "metadata": {},
     "output_type": "execute_result"
    }
   ],
   "source": [
    "calls.groupby(\"Call Date\")[\"Call Id\"].count()"
   ]
  },
  {
   "cell_type": "markdown",
   "id": "ef3064e7-600d-4254-acc3-5bf312dcdbdf",
   "metadata": {},
   "source": [
    "#### 6. Total Call Duration (Mins) by Call Date."
   ]
  },
  {
   "cell_type": "code",
   "execution_count": 54,
   "id": "e4fcfff3-0e3d-4c9b-a2db-5f8ea0311fa1",
   "metadata": {},
   "outputs": [
    {
     "data": {
      "text/plain": [
       "Call Date\n",
       "2020-10-01    26738\n",
       "2020-10-02    26531\n",
       "2020-10-03    27094\n",
       "2020-10-04    25854\n",
       "2020-10-05    27588\n",
       "2020-10-06    28922\n",
       "2020-10-07    25817\n",
       "2020-10-08    26851\n",
       "2020-10-09    28337\n",
       "2020-10-10    27798\n",
       "2020-10-11    26153\n",
       "2020-10-12    27000\n",
       "2020-10-13    27293\n",
       "2020-10-14    27212\n",
       "2020-10-15    27344\n",
       "2020-10-16    28326\n",
       "2020-10-17    27883\n",
       "2020-10-18    26781\n",
       "2020-10-19    27268\n",
       "2020-10-20    26676\n",
       "2020-10-21    28734\n",
       "2020-10-22    29104\n",
       "2020-10-23    27355\n",
       "2020-10-24    27237\n",
       "2020-10-25    26336\n",
       "2020-10-26    25858\n",
       "2020-10-27    26752\n",
       "2020-10-28    29053\n",
       "2020-10-29    26030\n",
       "2020-10-30    26948\n",
       "Name: Call Duration (Mins), dtype: int64"
      ]
     },
     "execution_count": 54,
     "metadata": {},
     "output_type": "execute_result"
    }
   ],
   "source": [
    "calls.groupby(\"Call Date\")[\"Call Duration (Mins)\"].sum()"
   ]
  },
  {
   "cell_type": "markdown",
   "id": "81591e00-27b9-44af-9f1f-d31277b41c34",
   "metadata": {},
   "source": [
    "#### 7. Average Call Duration (Mins) by Call Date."
   ]
  },
  {
   "cell_type": "code",
   "execution_count": 56,
   "id": "44373196-9b6b-4455-bb66-74be03313c1c",
   "metadata": {},
   "outputs": [
    {
     "data": {
      "text/plain": [
       "Call Date\n",
       "2020-10-01    24.87\n",
       "2020-10-02    24.63\n",
       "2020-10-03    25.20\n",
       "2020-10-04    24.91\n",
       "2020-10-05    25.52\n",
       "2020-10-06    25.37\n",
       "2020-10-07    24.87\n",
       "2020-10-08    25.40\n",
       "2020-10-09    25.41\n",
       "2020-10-10    25.64\n",
       "2020-10-11    24.37\n",
       "2020-10-12    25.05\n",
       "2020-10-13    24.65\n",
       "2020-10-14    25.24\n",
       "2020-10-15    25.02\n",
       "2020-10-16    25.20\n",
       "2020-10-17    25.03\n",
       "2020-10-18    24.68\n",
       "2020-10-19    24.95\n",
       "2020-10-20    24.91\n",
       "2020-10-21    24.77\n",
       "2020-10-22    25.15\n",
       "2020-10-23    24.80\n",
       "2020-10-24    25.01\n",
       "2020-10-25    24.89\n",
       "2020-10-26    24.94\n",
       "2020-10-27    25.45\n",
       "2020-10-28    25.57\n",
       "2020-10-29    24.89\n",
       "2020-10-30    24.23\n",
       "Name: Call Duration (Mins), dtype: float64"
      ]
     },
     "execution_count": 56,
     "metadata": {},
     "output_type": "execute_result"
    }
   ],
   "source": [
    "calls.groupby(\"Call Date\")[\"Call Duration (Mins)\"].mean().round(2)"
   ]
  },
  {
   "cell_type": "markdown",
   "id": "4b802cf4-1fc3-463b-a58c-5099e794cdf2",
   "metadata": {},
   "source": [
    "#### 8. Average CSAT Score by Call Date."
   ]
  },
  {
   "cell_type": "code",
   "execution_count": 58,
   "id": "d8b5e354-e2d4-432d-86ef-bc1bb2779735",
   "metadata": {},
   "outputs": [
    {
     "data": {
      "text/plain": [
       "Call Date\n",
       "2020-10-01    5.37\n",
       "2020-10-02    5.53\n",
       "2020-10-03    5.46\n",
       "2020-10-04    5.59\n",
       "2020-10-05    5.41\n",
       "2020-10-06    5.54\n",
       "2020-10-07    5.44\n",
       "2020-10-08    5.47\n",
       "2020-10-09    5.63\n",
       "2020-10-10    5.64\n",
       "2020-10-11    5.55\n",
       "2020-10-12    5.74\n",
       "2020-10-13    5.58\n",
       "2020-10-14    5.76\n",
       "2020-10-15    5.38\n",
       "2020-10-16    5.64\n",
       "2020-10-17    5.56\n",
       "2020-10-18    5.69\n",
       "2020-10-19    5.43\n",
       "2020-10-20    5.61\n",
       "2020-10-21    5.77\n",
       "2020-10-22    5.55\n",
       "2020-10-23    5.49\n",
       "2020-10-24    5.50\n",
       "2020-10-25    5.52\n",
       "2020-10-26    5.53\n",
       "2020-10-27    5.45\n",
       "2020-10-28    5.55\n",
       "2020-10-29    5.52\n",
       "2020-10-30    5.45\n",
       "Name: CSAT Score, dtype: float64"
      ]
     },
     "execution_count": 58,
     "metadata": {},
     "output_type": "execute_result"
    }
   ],
   "source": [
    "calls.groupby(\"Call Date\")[\"CSAT Score\"].mean().round(2)"
   ]
  }
 ],
 "metadata": {
  "kernelspec": {
   "display_name": "Python 3 (ipykernel)",
   "language": "python",
   "name": "python3"
  },
  "language_info": {
   "codemirror_mode": {
    "name": "ipython",
    "version": 3
   },
   "file_extension": ".py",
   "mimetype": "text/x-python",
   "name": "python",
   "nbconvert_exporter": "python",
   "pygments_lexer": "ipython3",
   "version": "3.12.4"
  }
 },
 "nbformat": 4,
 "nbformat_minor": 5
}
